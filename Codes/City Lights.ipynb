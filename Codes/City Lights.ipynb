{
 "cells": [
  {
   "cell_type": "markdown",
   "id": "874b8fd2-ec65-402f-9112-bfde369cb5e0",
   "metadata": {},
   "source": [
    "# Locating Cities from Satellite images using Python"
   ]
  },
  {
   "cell_type": "markdown",
   "id": "cd442907-ce89-4b43-8454-43d17060205c",
   "metadata": {},
   "source": [
    "We have been given 4 images that are 64 by 64 pixels in size.Each pixel can either be white(a value of 255 on grayscale) or black(a value of 0 on grayscale).A black pixel means the area represented by that pixel is empty and a white pixel means that there are some settlements.A group of these white pixels that are close enough to each other basically mean that that region is a city.We shall find these cities and number of these cities using the K-Means algorithm."
   ]
  },
  {
   "cell_type": "markdown",
   "id": "1000471e-55ee-453e-bc6d-17da4375cf0c",
   "metadata": {},
   "source": [
    "Let us first start with one image which is named 1,a png file. First,we shall convert the image into an array so that it is easier to work with."
   ]
  },
  {
   "cell_type": "code",
   "execution_count": 1,
   "id": "20f4cdfb-b21d-430e-a2b6-80b96d489cde",
   "metadata": {},
   "outputs": [
    {
     "name": "stdout",
     "output_type": "stream",
     "text": [
      "[[[  0   0   0 255]\n",
      "  [  0   0   0 255]\n",
      "  [  0   0   0 255]\n",
      "  ...\n",
      "  [  0   0   0 255]\n",
      "  [  0   0   0 255]\n",
      "  [  0   0   0 255]]\n",
      "\n",
      " [[  0   0   0 255]\n",
      "  [  0   0   0 255]\n",
      "  [  0   0   0 255]\n",
      "  ...\n",
      "  [  0   0   0 255]\n",
      "  [  0   0   0 255]\n",
      "  [  0   0   0 255]]\n",
      "\n",
      " [[  0   0   0 255]\n",
      "  [  0   0   0 255]\n",
      "  [  0   0   0 255]\n",
      "  ...\n",
      "  [  0   0   0 255]\n",
      "  [  0   0   0 255]\n",
      "  [  0   0   0 255]]\n",
      "\n",
      " ...\n",
      "\n",
      " [[  0   0   0 255]\n",
      "  [  0   0   0 255]\n",
      "  [  0   0   0 255]\n",
      "  ...\n",
      "  [  0   0   0 255]\n",
      "  [  0   0   0 255]\n",
      "  [  0   0   0 255]]\n",
      "\n",
      " [[  0   0   0 255]\n",
      "  [  0   0   0 255]\n",
      "  [  0   0   0 255]\n",
      "  ...\n",
      "  [  0   0   0 255]\n",
      "  [  0   0   0 255]\n",
      "  [  0   0   0 255]]\n",
      "\n",
      " [[  0   0   0 255]\n",
      "  [  0   0   0 255]\n",
      "  [  0   0   0 255]\n",
      "  ...\n",
      "  [  0   0   0 255]\n",
      "  [  0   0   0 255]\n",
      "  [  0   0   0 255]]]\n",
      "(64, 64, 4)\n"
     ]
    }
   ],
   "source": [
    "from PIL import Image\n",
    "import numpy as np\n",
    "img = Image.open(r'C:\\Users\\A.MANIDEEP REDDY\\Downloads\\1.png')\n",
    "pixels = list(img.getdata())\n",
    "width, height = img.size\n",
    "img_array = np.array(pixels).reshape((height, width,-1))  \n",
    "print(img_array)\n",
    "print(img_array.shape)"
   ]
  },
  {
   "cell_type": "markdown",
   "id": "301f5f62-05c7-42cd-81ca-c105a4b1eb23",
   "metadata": {},
   "source": [
    "The img_array is a 3 dimensional array.\n",
    "In the img_array,there are 64*64 elements each being [0 0 0 255] or [255 255 255 255].Those that are carrying [0 0 0 255] are black pixels while [255 255 255 255] are white. The first 3 numbers (which are equal) basically represent the grayscale value of the pixel.Since only one of these 4 numbers is of the use for us now in this question,we shall eliminate the other 3 numbers and make a 2 dimensionsal array which is easier to work with."
   ]
  },
  {
   "cell_type": "code",
   "execution_count": 2,
   "id": "67f99f5c-f4bf-4d27-9653-7c64cdad15ad",
   "metadata": {},
   "outputs": [],
   "source": [
    "array1=np.zeros((64,64))\n",
    "for i in range(64):\n",
    "    for j in range(64):\n",
    "      array1[(i,j)]=img_array[i,j,0]"
   ]
  },
  {
   "cell_type": "markdown",
   "id": "d0df3109-8c8c-46b7-bb3f-230befaf385c",
   "metadata": {},
   "source": [
    "Now we have an 2 dimensional array that represents a 64 by 64 pixels image.This array can also be  converted into an excel file (which is not of any use besides giving a numerical view of an image) with the following lines of code."
   ]
  },
  {
   "cell_type": "code",
   "execution_count": 3,
   "id": "a301b9d6-0773-49b9-ad8d-da7235af4c67",
   "metadata": {},
   "outputs": [],
   "source": [
    "import pandas as pd\n",
    "df=pd.DataFrame(array1)\n",
    "df.to_excel(r\"C:\\Users\\A.MANIDEEP REDDY\\Desktop\\KDAG TASK\\Pixels.xlsx\", index=False)"
   ]
  },
  {
   "cell_type": "markdown",
   "id": "9b743974-38dd-43f3-a94f-86f7f3502b9f",
   "metadata": {},
   "source": [
    "## K-means algorithm and Elbow method"
   ]
  },
  {
   "cell_type": "markdown",
   "id": "929ac962-3bdd-451b-8573-a8964522390b",
   "metadata": {},
   "source": [
    "The k-means algorithm assumes that there are k clusters (k must be given) in given data points and gives the best cluster groups and their centres by iterative process.\n",
    "First we assume k random points as cluster positions and each of the data points are assigned to those clusters that are the nearest to them. Now the cluster position of each cluster is changed to the mean position of the points in that cluster and now with these cluster position cluster groups are re-assigned in the same way. This process is continued till convergence."
   ]
  },
  {
   "cell_type": "markdown",
   "id": "cb65a804-5886-45ad-9c04-fe687ecaed58",
   "metadata": {},
   "source": [
    "But some data sets can be such that one cannot determine the number of clusters by visual means,that is dividing the data points into 2 clusters and 3 clusters both make sense.\n",
    "In these cases,we use elbow method to determine the optimal value of k.In this method,we find within-cluster sum of squares (WCSS),which the sum of squares of the distances between each data point and the cluster position of the cluster to which the point is assigned,for multiple values of k and plot a graph of WCSS vs k. From the graph we find the elbow point,which is the point where the slope changes abruptly and the k value of this point is declared as the optimal value of k."
   ]
  },
  {
   "cell_type": "markdown",
   "id": "47d73de8-83c6-4e93-a8a1-92b1f288a76a",
   "metadata": {},
   "source": [
    "We shall use these two and locate cities in the given images."
   ]
  },
  {
   "cell_type": "markdown",
   "id": "0d4777a7-4fe2-4f14-beb9-40e5a75f1c20",
   "metadata": {},
   "source": [
    "Let us first find the data points (that is the white pixels)"
   ]
  },
  {
   "cell_type": "code",
   "execution_count": 4,
   "id": "261da8c9-1bda-4ca7-b712-adcbe92ab655",
   "metadata": {},
   "outputs": [],
   "source": [
    "def findlyts(array):\n",
    "    lyts = []\n",
    "    for i in range(64):\n",
    "        for j in range(64):\n",
    "            if array[i, j]!=0:\n",
    "                lyts.append((i, j))\n",
    "    return np.array(lyts)\n",
    "\n",
    "lyts1=findlyts(array1)"
   ]
  },
  {
   "cell_type": "markdown",
   "id": "a0c3797f-a28a-456b-a929-b6d50847081e",
   "metadata": {},
   "source": [
    "The lyts now contains the coordinates of the pixels that are white.\n",
    "Now we need to initialise the cluster positions."
   ]
  },
  {
   "cell_type": "code",
   "execution_count": 5,
   "id": "dd0fd189-40bb-4b71-b118-4fdd38f75be4",
   "metadata": {},
   "outputs": [],
   "source": [
    "import random\n",
    "def initialclusterf(lyts,k):\n",
    "    initialcluster=[]\n",
    "    for i in range(k):\n",
    "        s=random.randint(0,len(lyts)-1)\n",
    "        initialcluster.append(lyts[s])\n",
    "    return np.array(initialcluster)"
   ]
  },
  {
   "cell_type": "markdown",
   "id": "18e62b92-872b-4b99-8b5d-47386c57a8a0",
   "metadata": {},
   "source": [
    "This function returns an array named initialcluster that contains k cluster positions chosen at random from the lyts array.\n",
    "To apply the k-means algorithm let us write 2 functions,one function which is recursive and the other function does the actual calculation part and updating the cluster positions with the mean point. This function shall also include the calculation of wcss. Let us first write the 2nd function."
   ]
  },
  {
   "cell_type": "code",
   "execution_count": 6,
   "id": "7f034950-970e-4819-a4bc-4d8c4aaa92ae",
   "metadata": {},
   "outputs": [],
   "source": [
    "def kmeans(lyts,initialcluster,k):\n",
    "    wcss=0\n",
    "    array_m=np.zeros((k,3))\n",
    "    finalcluster=np.zeros((k,2))\n",
    "    for i in range(len(lyts)):\n",
    "      d=np.inf\n",
    "      y=0\n",
    "      for j in range(k):\n",
    "        x=np.linalg.norm(lyts[i]-initialcluster[j])\n",
    "        if x<d:\n",
    "           d=x\n",
    "           y=j\n",
    "      array_m[y]=array_m[y]+np.array((lyts[i,0],lyts[i,1],1))\n",
    "      wcss=wcss+d*d\n",
    "    for t in range(k):\n",
    "      if array_m[(t, 2)] != 0:\n",
    "        finalcluster[(t, 0)] = array_m[(t, 0)] / array_m[(t, 2)]\n",
    "        finalcluster[(t, 1)] = array_m[(t, 1)] / array_m[(t, 2)]\n",
    "      else:\n",
    "        finalcluster[(t, 0)] = 0\n",
    "        finalcluster[(t, 1)] = 0\n",
    "    return [finalcluster,wcss]"
   ]
  },
  {
   "cell_type": "markdown",
   "id": "3912354d-95dc-467c-95bc-b175a2668c2c",
   "metadata": {},
   "source": [
    "Here,the outer for loop is iterating over each data point and the inner loop is iterating over each cluster position to find the nearest cluster position to the given point (given by the outer loop). The array named array_m is a k by 3 array. This serves a purpose. It has k rows so as store information regarding k cluster points. Also it has 3 columns. The first column of jth row holds the value of sum of x-coordinates of the points which are assigned to the jth cluster,second column holds the value of sum of y-coordinates and third column holds the number of points in jth cluster. So when 1st and 2nd column values are divided by 3rd column values,we get the mean of the points in that cluster. This is how we are updating the finalcluster array. At the end of an inner loop,y is assigned with the index of the cluster position in initialcluster array that is closest to the point,d is assigned with the distance between these two,array_m and wcss are updated. At the end of the outer loop,we shall update finalcluster array.\n",
    "The function returns the finalcluster array as well as wcss value for that particular initialisation."
   ]
  },
  {
   "cell_type": "markdown",
   "id": "9e535707-1906-45bb-99e4-0f7b01866a4c",
   "metadata": {},
   "source": [
    "Now for the recursive function,"
   ]
  },
  {
   "cell_type": "code",
   "execution_count": 7,
   "id": "39a75746-6c9e-44d4-8f49-d6a3712b45b2",
   "metadata": {},
   "outputs": [],
   "source": [
    "def mainalgo(lyts,initialcluster,k):\n",
    "    finalcluster=kmeans(lyts,initialcluster,k)\n",
    "    if np.array_equal(finalcluster[0],initialcluster):\n",
    "       return finalcluster\n",
    "    else:\n",
    "       return mainalgo(lyts,finalcluster[0],k)"
   ]
  },
  {
   "cell_type": "markdown",
   "id": "e2c0666f-9749-4cda-add0-15bb95930bfe",
   "metadata": {},
   "source": [
    "This function takes intialcluster array and k value and then undergoes recursion until convergence is reached and then returns the finalcluster list which contains the wcss value and an array containing the final cluster positions.\n",
    "Now to find optimal k value by applying the elbow method,"
   ]
  },
  {
   "cell_type": "code",
   "execution_count": 8,
   "id": "f7061096-59fe-498f-a09b-5059c5b40985",
   "metadata": {},
   "outputs": [],
   "source": [
    "import matplotlib.pyplot as plt\n",
    "def elbow_k(lyts):\n",
    "    wcss_lists=[]\n",
    "    for k_1 in range(10):\n",
    "       k=k_1+1\n",
    "       finalcluster=mainalgo(lyts,initialclusterf(lyts,k),k)\n",
    "       wcss_lists.append(finalcluster[1])\n",
    "    plt.plot(wcss_lists)\n",
    "    plt.xlabel('K-1')\n",
    "    plt.ylabel('WCSS')\n",
    "    plt.show()"
   ]
  },
  {
   "cell_type": "markdown",
   "id": "d953a441-2e75-4f6b-894a-acb15d295028",
   "metadata": {},
   "source": [
    "This function plots wcss vs (k-1) from k=1 to k=10. Lets call it."
   ]
  },
  {
   "cell_type": "code",
   "execution_count": 9,
   "id": "ccaef6d6-01bd-4141-b52e-fa12d91d3ce9",
   "metadata": {},
   "outputs": [
    {
     "data": {
      "image/png": "[encoded data removed]",
      "text/plain": [
       "<Figure size 640x480 with 1 Axes>"
      ]
     },
     "metadata": {},
     "output_type": "display_data"
    }
   ],
   "source": [
    "elbow_k(lyts1)"
   ]
  },
  {
   "cell_type": "markdown",
   "id": "1c911f29-5063-41ba-87cf-7968b929971e",
   "metadata": {},
   "source": [
    "In the plot we observe an elbow point a k-1=2,that is at k=3.So we can say that are 3 cities in the image 1.png .\n",
    "To find the city centres,we call mainalgo function with k=3."
   ]
  },
  {
   "cell_type": "code",
   "execution_count": 10,
   "id": "56d34d13-cb71-4cf9-9fda-cc662fc955fa",
   "metadata": {},
   "outputs": [
    {
     "name": "stdout",
     "output_type": "stream",
     "text": [
      "[[38.93023256 40.81395349]\n",
      " [33.43478261 16.45652174]\n",
      " [19.7        58.425     ]]\n"
     ]
    }
   ],
   "source": [
    "c_w1=mainalgo(lyts1,initialclusterf(lyts1,3),3)\n",
    "print(c_w1[0])"
   ]
  },
  {
   "cell_type": "markdown",
   "id": "02fae424-44b6-4f7a-9064-13dad44f21a7",
   "metadata": {},
   "source": [
    "Now let us find distance between these centres."
   ]
  },
  {
   "cell_type": "code",
   "execution_count": 11,
   "id": "a9b184cd-3eda-4ac1-b8e1-652305dab485",
   "metadata": {},
   "outputs": [
    {
     "name": "stdout",
     "output_type": "stream",
     "text": [
      " First City Number  Second City Number  Distance between the Cities\n",
      "                 1                   2                    24.969671\n",
      "                 1                   3                    26.075866\n",
      "                 2                   3                    44.158775\n"
     ]
    }
   ],
   "source": [
    "def dist_cities(c_w):\n",
    "  c_w_n=np.array(c_w[0])\n",
    "  distances=[]\n",
    "  for i in range(c_w_n.shape[0]):\n",
    "      for j in range(i+1,c_w_n.shape[0]):\n",
    "          distances.append((i+1,j+1,np.linalg.norm(c_w_n[i]-c_w_n[j])))\n",
    "  dis_df=pd.DataFrame(distances,columns=[\"First City Number\",\"Second City Number\",\"Distance between the Cities\"])\n",
    "  print(dis_df.to_string(index=False))\n",
    "dist_cities(c_w1)"
   ]
  },
  {
   "cell_type": "markdown",
   "id": "4daed8d0-4e20-4801-9fed-d1b131458883",
   "metadata": {},
   "source": [
    "We now have the distances between the cities in the 1st image.\n",
    "Lets repeat this process for the remaining 3 images."
   ]
  },
  {
   "cell_type": "markdown",
   "id": "9abc6954-ff6b-4763-b11c-f1ce13e550b0",
   "metadata": {},
   "source": [
    "### Image 2.png"
   ]
  },
  {
   "cell_type": "code",
   "execution_count": 12,
   "id": "f35b7e47-2119-4198-aa77-85e8b522ab0a",
   "metadata": {},
   "outputs": [],
   "source": [
    "img = Image.open(r'C:\\Users\\A.MANIDEEP REDDY\\Downloads\\2.png')\n",
    "\n",
    "pixels = list(img.getdata())\n",
    "\n",
    "width, height = img.size\n",
    "\n",
    "img_array = np.array(pixels).reshape((height, width,-1))  \n",
    "\n",
    "array2=np.zeros((64,64))\n",
    "for i in range(64):\n",
    "    for j in range(64):\n",
    "      array2[(i,j)]=img_array[i,j,0]\n",
    " \n",
    "lyts2=findlyts(array2)"
   ]
  },
  {
   "cell_type": "markdown",
   "id": "79c3d920-a4da-433d-9d4e-9c2102abc23e",
   "metadata": {},
   "source": [
    "lyts2 has data points of image 2.png ."
   ]
  },
  {
   "cell_type": "code",
   "execution_count": 13,
   "id": "38dc8e28-e7c5-40ce-8909-576f586e4263",
   "metadata": {},
   "outputs": [
    {
     "data": {
      "image/png": "[encoded data removed]",
      "text/plain": [
       "<Figure size 640x480 with 1 Axes>"
      ]
     },
     "metadata": {},
     "output_type": "display_data"
    }
   ],
   "source": [
    "elbow_k(lyts2)"
   ]
  },
  {
   "cell_type": "markdown",
   "id": "48adc5f2-58cf-4e28-a45c-5850f5ed490f",
   "metadata": {},
   "source": [
    "From the plot we can say k=3.So,the city centres are"
   ]
  },
  {
   "cell_type": "code",
   "execution_count": 14,
   "id": "4dc8202f-b38b-410a-8a94-b40df3281cea",
   "metadata": {},
   "outputs": [
    {
     "name": "stdout",
     "output_type": "stream",
     "text": [
      "[[48.62068966 23.10344828]\n",
      " [44.90909091 40.54545455]\n",
      " [26.38461538 28.82051282]]\n"
     ]
    }
   ],
   "source": [
    "c_w2=mainalgo(lyts2,initialclusterf(lyts2,3),3)\n",
    "print(c_w2[0])"
   ]
  },
  {
   "cell_type": "markdown",
   "id": "6681421d-1eea-4221-998e-6cc6611e48fc",
   "metadata": {},
   "source": [
    "And the distances between them are"
   ]
  },
  {
   "cell_type": "code",
   "execution_count": 15,
   "id": "b8ce26ef-9630-46e3-86f1-b5cc9a7419fe",
   "metadata": {},
   "outputs": [
    {
     "name": "stdout",
     "output_type": "stream",
     "text": [
      " First City Number  Second City Number  Distance between the Cities\n",
      "                 1                   2                    17.832542\n",
      "                 1                   3                    22.959264\n",
      "                 2                   3                    21.923286\n"
     ]
    }
   ],
   "source": [
    "dist_cities(c_w2)"
   ]
  },
  {
   "cell_type": "markdown",
   "id": "12edcdd2-6314-4a85-8b89-49e68a190139",
   "metadata": {},
   "source": [
    "### Image 3.png"
   ]
  },
  {
   "cell_type": "code",
   "execution_count": 16,
   "id": "013884b3-c73d-4841-bf22-9cb6dae0914f",
   "metadata": {},
   "outputs": [],
   "source": [
    "img = Image.open(r'C:\\Users\\A.MANIDEEP REDDY\\Downloads\\3.png')\n",
    "\n",
    "pixels = list(img.getdata())\n",
    "\n",
    "width, height = img.size\n",
    "\n",
    "img_array = np.array(pixels).reshape((height, width,-1))  \n",
    "\n",
    "array3=np.zeros((64,64))\n",
    "for i in range(64):\n",
    "    for j in range(64):\n",
    "      array3[(i,j)]=img_array[i,j,0]\n",
    "\n",
    "lyts3=findlyts(array3)"
   ]
  },
  {
   "cell_type": "markdown",
   "id": "ba20470d-da51-4c8a-9fbe-7c4d1fa81446",
   "metadata": {},
   "source": [
    "lyts3 has data points of image 3.png ."
   ]
  },
  {
   "cell_type": "code",
   "execution_count": 17,
   "id": "4e8574cd-0b45-4d90-8253-55178aeda4e6",
   "metadata": {},
   "outputs": [
    {
     "data": {
      "image/png": "[encoded data removed]",
      "text/plain": [
       "<Figure size 640x480 with 1 Axes>"
      ]
     },
     "metadata": {},
     "output_type": "display_data"
    }
   ],
   "source": [
    "elbow_k(lyts3)"
   ]
  },
  {
   "cell_type": "markdown",
   "id": "50361e1c-68ea-483e-a398-aa3eaa0ccf8e",
   "metadata": {},
   "source": [
    "From the plot we can say k=4.So,the city centres are"
   ]
  },
  {
   "cell_type": "code",
   "execution_count": 18,
   "id": "26754527-610a-49f2-b9c1-13bf254b705c",
   "metadata": {},
   "outputs": [
    {
     "name": "stdout",
     "output_type": "stream",
     "text": [
      "[[52.22222222 48.5       ]\n",
      " [ 9.62666667 27.74666667]\n",
      " [49.20930233  9.41860465]\n",
      " [46.95238095 51.33333333]]\n"
     ]
    }
   ],
   "source": [
    "c_w3=mainalgo(lyts3,initialclusterf(lyts3,4),4)\n",
    "print(c_w3[0])"
   ]
  },
  {
   "cell_type": "markdown",
   "id": "31bb392b-0219-4a74-8276-4e43cd75fe09",
   "metadata": {},
   "source": [
    "And the distances between them are"
   ]
  },
  {
   "cell_type": "code",
   "execution_count": 19,
   "id": "a8e209d9-25a9-4da1-bf9a-b39969244a7e",
   "metadata": {},
   "outputs": [
    {
     "name": "stdout",
     "output_type": "stream",
     "text": [
      " First City Number  Second City Number  Distance between the Cities\n",
      "                 1                   2                    47.382298\n",
      "                 1                   3                    39.197362\n",
      "                 1                   4                     5.983227\n",
      "                 2                   3                    43.619983\n",
      "                 2                   4                    44.153593\n",
      "                 3                   4                    41.975447\n"
     ]
    }
   ],
   "source": [
    "dist_cities(c_w3)"
   ]
  },
  {
   "cell_type": "markdown",
   "id": "d2fd0a31-a494-4ee9-ae1c-ea8645aa1cd6",
   "metadata": {},
   "source": [
    "### Image 4.png"
   ]
  },
  {
   "cell_type": "code",
   "execution_count": 20,
   "id": "6f8f4912-982c-44f5-9397-0265f64e4b3e",
   "metadata": {},
   "outputs": [],
   "source": [
    "img = Image.open(r'C:\\Users\\A.MANIDEEP REDDY\\Downloads\\4.png')\n",
    "\n",
    "pixels = list(img.getdata())\n",
    "\n",
    "width, height = img.size\n",
    "\n",
    "img_array = np.array(pixels).reshape((height, width,-1))  \n",
    "\n",
    "array4=np.zeros((64,64))\n",
    "for i in range(64):\n",
    "    for j in range(64):\n",
    "      array4[(i,j)]=img_array[i,j,0]\n",
    "        \n",
    "lyts4=findlyts(array4)"
   ]
  },
  {
   "cell_type": "markdown",
   "id": "d7a82210-bf27-44f5-90c5-2c08edd836b2",
   "metadata": {},
   "source": [
    "lyts4 has data points of image 4.png "
   ]
  },
  {
   "cell_type": "code",
   "execution_count": 21,
   "id": "07b6df81-9378-4b41-9c0b-2b421c4730cf",
   "metadata": {},
   "outputs": [
    {
     "data": {
      "image/png": "[encoded data removed]",
      "text/plain": [
       "<Figure size 640x480 with 1 Axes>"
      ]
     },
     "metadata": {},
     "output_type": "display_data"
    }
   ],
   "source": [
    "elbow_k(lyts4)"
   ]
  },
  {
   "cell_type": "markdown",
   "id": "5f72555b-c5cb-4a04-aacc-7d9ea2d0215d",
   "metadata": {},
   "source": [
    "From the plot we can say k=2.So,the city centres are"
   ]
  },
  {
   "cell_type": "code",
   "execution_count": 22,
   "id": "e96c25b4-4317-4684-974a-4cfe93eadef7",
   "metadata": {},
   "outputs": [
    {
     "name": "stdout",
     "output_type": "stream",
     "text": [
      "[[20.32911392 21.07594937]\n",
      " [38.44736842 57.5       ]]\n"
     ]
    }
   ],
   "source": [
    "c_w4=mainalgo(lyts4,initialclusterf(lyts4,2),2)\n",
    "print(c_w4[0])"
   ]
  },
  {
   "cell_type": "markdown",
   "id": "e6e605de-1e96-4b12-b7be-10dbc3ea1275",
   "metadata": {},
   "source": [
    "And the distances between them are"
   ]
  },
  {
   "cell_type": "code",
   "execution_count": 23,
   "id": "18b0d8cf-9139-4899-864e-7d182e8bdce5",
   "metadata": {},
   "outputs": [
    {
     "name": "stdout",
     "output_type": "stream",
     "text": [
      " First City Number  Second City Number  Distance between the Cities\n",
      "                 1                   2                    40.681477\n"
     ]
    }
   ],
   "source": [
    "dist_cities(c_w4)"
   ]
  }
 ],
 "metadata": {
  "kernelspec": {
   "display_name": "Python 3 (ipykernel)",
   "language": "python",
   "name": "python3"
  },
  "language_info": {
   "codemirror_mode": {
    "name": "ipython",
    "version": 3
   },
   "file_extension": ".py",
   "mimetype": "text/x-python",
   "name": "python",
   "nbconvert_exporter": "python",
   "pygments_lexer": "ipython3",
   "version": "3.12.4"
  }
 },
 "nbformat": 4,
 "nbformat_minor": 5
}
