{
 "cells": [
  {
   "cell_type": "markdown",
   "id": "0fb6c07d-3826-4570-b124-5a74bf085b8e",
   "metadata": {},
   "source": [
    "# K-Means Clustering"
   ]
  },
  {
   "cell_type": "markdown",
   "id": "e2429fea-b784-4565-8592-a29620ccbbc5",
   "metadata": {},
   "source": [
    "The k-means algorithm assumes that there are k clusters (k must be given) in given data points and gives the best cluster groups and their centres by iterative process. First we assume k random points as cluster positions and each of the data points are assigned to those clusters that are the nearest to them. Now the cluster position of each cluster is changed to the mean position of the points in that cluster and now with these cluster position cluster groups are re-assigned in the same way. This process is continued till convergence."
   ]
  },
  {
   "cell_type": "markdown",
   "id": "89bb78ec-a612-4159-b013-4fd72aaf4d59",
   "metadata": {},
   "source": [
    "In other words,we will be plotting the given points with,say n features in an n-dimensional space(in this case a 3-dimensional space). There are k groups/clusters of points and the distinctive feature between these groups/clusters in our case is the 'target' variable. The k-means algorithm gives us the centers of each of these clusters. We can determine in which cluster a given point lies by finding which center(of the clusters) is closest to this point and hence we can determine the value of 'target' variable."
   ]
  },
  {
   "cell_type": "markdown",
   "id": "c7e1a480-94cc-446e-9b04-5fea1cad49a2",
   "metadata": {},
   "source": [
    "In this algorithm,the hyperparameters can be the number of clusters,i.e,k and the initial cluster positions. Initialization of the clusters can either be random or may also use some methods,like k-means++. We shall initialise them randomly."
   ]
  },
  {
   "cell_type": "markdown",
   "id": "e527cbac-e922-4de2-9ea7-245cb712534c",
   "metadata": {},
   "source": [
    "The value of the 'target' variable can be 0,1 or 2. So it makes sense that number of clusters is 3. We shall prove this using elbow method,a well known process to determine the best value of k. .In this method,we find within-cluster sum of squares (WCSS),which the sum of squares of the distances between each point and the cluster center of the cluster to which the point is assigned,for multiple values of k and plot a graph of WCSS vs k. From the graph we find the elbow point,which is the point where the slope changes abruptly and the k value of this point is declared as the optimal value of k."
   ]
  },
  {
   "cell_type": "markdown",
   "id": "38b72ea3-a225-4d5d-9d49-ef808f055a7a",
   "metadata": {},
   "source": [
    "Let us now start writing the code."
   ]
  },
  {
   "cell_type": "markdown",
   "id": "fcbc353c-a32a-4dbe-9bf4-485947eb4b50",
   "metadata": {},
   "source": [
    "### The Code"
   ]
  },
  {
   "cell_type": "markdown",
   "id": "664d2787-2ac7-4a63-86d5-f5d7f4efe286",
   "metadata": {},
   "source": [
    "First,let us import the necessary libraries and data sets"
   ]
  },
  {
   "cell_type": "code",
   "execution_count": 1,
   "id": "02ef8ab0-7f0e-40c5-898c-17d14c03b004",
   "metadata": {},
   "outputs": [],
   "source": [
    "import pandas as pd\n",
    "import random\n",
    "import numpy as np\n",
    "import matplotlib.pyplot as plt\n",
    "\n",
    "df_train=pd.read_csv(r\"D:\\data1_train.csv\")\n",
    "df_test=pd.read_csv(r\"D:\\data1_test.csv\")\n"
   ]
  },
  {
   "cell_type": "markdown",
   "id": "97c6d359-8c87-4a88-bdf7-e57a29640ead",
   "metadata": {},
   "source": [
    "As per the k-means algorithm we first need a initial cluster which we will now initialise randomly."
   ]
  },
  {
   "cell_type": "code",
   "execution_count": 2,
   "id": "7f633229-b347-4948-9b38-2619eda0979c",
   "metadata": {},
   "outputs": [],
   "source": [
    "def initialclusterf(df_train,k):\n",
    "    initialcluster=[]\n",
    "    for i in range(k):\n",
    "        s=random.randint(0,len(df_train)-1)\n",
    "        initialcluster.append(df_train.iloc[s])\n",
    "    return np.array(initialcluster)"
   ]
  },
  {
   "cell_type": "markdown",
   "id": "c638a64f-edfa-4ffe-9552-e732748bf330",
   "metadata": {},
   "source": [
    "Now,we shall write a function that will find the mean position of the new clusters when an intial cluster is given.It shall return the new cluster centers as well as the corresponding WCSS value."
   ]
  },
  {
   "cell_type": "code",
   "execution_count": 3,
   "id": "68796bb1-3c6d-4f73-979d-e68654b3b5b8",
   "metadata": {},
   "outputs": [],
   "source": [
    "def kmeans(df_train,initialcluster,k):\n",
    "    wcss=0\n",
    "    array_m=np.zeros((k,5))\n",
    "    finalcluster=np.zeros((k,4))\n",
    "    for i in range(len(df_train)):\n",
    "      d=np.inf\n",
    "      y=0\n",
    "      for j in range(k):\n",
    "        x=np.linalg.norm(df_train.iloc[i,:3]-initialcluster[j,:3])\n",
    "        if x<d:\n",
    "           d=x\n",
    "           y=j\n",
    "      array_m[y]=array_m[y]+np.array((df_train.iloc[i,0],df_train.iloc[i,1],df_train.iloc[i,2],df_train.iloc[i,3],1))\n",
    "      wcss=wcss+d*d\n",
    "    for t in range(k):\n",
    "      if array_m[(t, 4)]!=0:\n",
    "        finalcluster[(t, 0)] = array_m[(t, 0)] / array_m[(t, 4)]\n",
    "        finalcluster[(t, 1)] = array_m[(t, 1)] / array_m[(t, 4)]\n",
    "        finalcluster[(t, 2)] = array_m[(t, 2)] / array_m[(t, 4)]\n",
    "        finalcluster[(t, 3)] = array_m[(t, 3)] / array_m[(t, 4)]\n",
    "      if array_m[(t, 4)]==0:\n",
    "        finalcluster[(t, 0)] = 0\n",
    "        finalcluster[(t, 1)] = 0\n",
    "        finalcluster[(t, 2)] = 0\n",
    "        finalcluster[(t, 3)] = 0\n",
    "    return [finalcluster,wcss]"
   ]
  },
  {
   "cell_type": "markdown",
   "id": "5c0cd2d3-5df7-46e2-bb17-ab4e22871eea",
   "metadata": {},
   "source": [
    "Here,the outer for loop is iterating over each data point and the inner loop is iterating over each cluster position to find the nearest cluster position to the given point (given by the outer loop). The array named array_m is a k by 5 array. This serves a purpose. It has k rows so as store information regarding k cluster points. Also it has 5 columns. The first 3 columns hold the sum of the corresponding coordinates of the points that are assigned to that cluster,the 4th column holds the sum of the target variable of the same points and the last column holds the number of points that are assigned to that cluster. So when first 4 column values are divided by 5th column values,we get the mean of the points in that cluster. This is how we are updating the finalcluster array. At the end of an inner loop,y is assigned with the index of the cluster position in initialcluster array that is closest to the point,d is assigned with the distance between these two,array_m and WCSS are updated. At the end of the outer loop,we shall update finalcluster array. The function returns the finalcluster array as well as WCSS value for that particular initialisation."
   ]
  },
  {
   "cell_type": "markdown",
   "id": "7035f113-a511-4bb4-9315-2333c6eab33b",
   "metadata": {},
   "source": [
    "This function is just one iteration of many iterations at the end of which we obtain the best cluster centers. To perform this,we shall write another function that recursively calls the above function. "
   ]
  },
  {
   "cell_type": "code",
   "execution_count": 4,
   "id": "be05cb95-ee0a-4b84-bfd4-8ab42d31e31e",
   "metadata": {},
   "outputs": [],
   "source": [
    "def mainalgo(df_train,initialcluster,k):\n",
    "    finalcluster=kmeans(df_train,initialcluster,k)\n",
    "    if np.array_equal(finalcluster[0],initialcluster):\n",
    "       return finalcluster\n",
    "    else:\n",
    "       return mainalgo(df_train,finalcluster[0],k)"
   ]
  },
  {
   "cell_type": "markdown",
   "id": "3b4805ee-ff8c-4db8-9f51-399ba298295b",
   "metadata": {},
   "source": [
    "It must be noted that kmeans() function returns an object that contains the new cluster centers as well as WCSS which is why we are using index on finalcluster variable as finalcluster[0]. finalcluster[1] gives the WCSS value."
   ]
  },
  {
   "cell_type": "markdown",
   "id": "34e1e9b7-1c66-4dde-9142-18b7d9b96da5",
   "metadata": {},
   "source": [
    "These functions together give us the finalcluster centers for a given value of k. Now,to prove that k=3 is the best solution,we shall apply the elbow method with the following function."
   ]
  },
  {
   "cell_type": "code",
   "execution_count": 5,
   "id": "78266208-7825-4efc-9588-256c90528496",
   "metadata": {},
   "outputs": [
    {
     "data": {
      "image/png": "[encoded data removed]",
      "text/plain": [
       "<Figure size 640x480 with 1 Axes>"
      ]
     },
     "metadata": {},
     "output_type": "display_data"
    }
   ],
   "source": [
    "def elbow_k(df_train):\n",
    "    wcss_lists=[]\n",
    "    for k_1 in range(6):\n",
    "       k=k_1+1\n",
    "       finalcluster=mainalgo(df_train,initialclusterf(df_train,k),k)\n",
    "       wcss_lists.append(finalcluster[1])\n",
    "    plt.plot(wcss_lists)\n",
    "    plt.xlabel('K-1')\n",
    "    plt.ylabel('WCSS')\n",
    "    plt.show()\n",
    "    \n",
    "elbow_k(df_train)"
   ]
  },
  {
   "cell_type": "markdown",
   "id": "ad1c5afa-0575-4d04-9f2a-4622f4e296d8",
   "metadata": {},
   "source": [
    "There is an abrupt change in the slope at k-1=2,i.e at k=3. hence,we have proved that k=3.Now,let us train the model for k=3 and test it."
   ]
  },
  {
   "cell_type": "code",
   "execution_count": 6,
   "id": "9eac117a-4fc1-40e1-82cd-9a5ef6e2f17c",
   "metadata": {},
   "outputs": [
    {
     "data": {
      "text/plain": [
       "array([[9.82548004e+01, 8.33283770e+01, 9.45283040e+01, 3.40909091e-02],\n",
       "       [9.92542674e+01, 7.54276218e+01, 7.70426637e+01, 1.95357143e+00],\n",
       "       [8.34444662e+01, 7.64763129e+01, 8.87446822e+01, 9.92187500e-01]])"
      ]
     },
     "execution_count": 6,
     "metadata": {},
     "output_type": "execute_result"
    }
   ],
   "source": [
    "initialcluster=initialclusterf(df_train,3)\n",
    "result=mainalgo(df_train,initialcluster,3)\n",
    "finalcluster=result[0]\n",
    "finalcluster"
   ]
  },
  {
   "cell_type": "markdown",
   "id": "6fdd06ce-d870-46e2-a484-e26049adc71a",
   "metadata": {},
   "source": [
    "The target values of the center points are neither 0,1 nor 2,but are very close to them. This happens because some points were assigned to the cluster whose target value doesn't match with its own. This also causes some inaccuracy. Before the testing,let us first change the target values to the required ones for easier testing."
   ]
  },
  {
   "cell_type": "code",
   "execution_count": 7,
   "id": "b551c193-9811-4176-bdc6-f2bf41c69106",
   "metadata": {},
   "outputs": [
    {
     "data": {
      "text/plain": [
       "array([[98.25480036, 83.32837705, 94.52830396,  0.        ],\n",
       "       [99.25426741, 75.42762178, 77.0426637 ,  2.        ],\n",
       "       [83.44446624, 76.47631289, 88.74468222,  1.        ]])"
      ]
     },
     "execution_count": 7,
     "metadata": {},
     "output_type": "execute_result"
    }
   ],
   "source": [
    "import math\n",
    "for i in range(3):\n",
    "    finalcluster[i,3]=round(finalcluster[i,3])\n",
    "finalcluster"
   ]
  },
  {
   "cell_type": "markdown",
   "id": "c847bb2a-3518-452b-975b-c72b576af283",
   "metadata": {},
   "source": [
    "Now let us test the accuracy of this model."
   ]
  },
  {
   "cell_type": "code",
   "execution_count": 8,
   "id": "89fca794-4654-4843-bf7a-2557c365feef",
   "metadata": {},
   "outputs": [
    {
     "name": "stdout",
     "output_type": "stream",
     "text": [
      "Accuracy on train: 97.5%\n"
     ]
    }
   ],
   "source": [
    "count=0\n",
    "for i in range(len(df_train)):\n",
    "    d=np.inf\n",
    "    for j in range(3):\n",
    "        x=np.linalg.norm(finalcluster[j,:3]-df_train.iloc[i,:3])\n",
    "        if x<d:\n",
    "          d=x\n",
    "          k=finalcluster[j,3]\n",
    "    if k==df_train.iloc[i,3]:\n",
    "        count+=1\n",
    "accuracy=(count/len(df_train))*100\n",
    "print(f\"Accuracy on train: {accuracy}%\")"
   ]
  },
  {
   "cell_type": "code",
   "execution_count": 9,
   "id": "6d23bb09-4e65-4d49-909a-1f2b9ddaac9b",
   "metadata": {},
   "outputs": [
    {
     "name": "stdout",
     "output_type": "stream",
     "text": [
      "Accuracy on test: 97.5%\n"
     ]
    }
   ],
   "source": [
    "count=0\n",
    "for i in range(len(df_test)):\n",
    "    d=np.inf\n",
    "    for j in range(3):\n",
    "        x=np.linalg.norm(finalcluster[j,:3]-df_test.iloc[i,:3])\n",
    "        if x<d:\n",
    "          d=x\n",
    "          k=finalcluster[j,3]\n",
    "    if k==df_test.iloc[i,3]:\n",
    "        count+=1\n",
    "accuracy=(count/len(df_test))*100\n",
    "print(f\"Accuracy on test: {accuracy}%\")"
   ]
  },
  {
   "cell_type": "markdown",
   "id": "16476b92-cb5f-4d95-96c3-ced015ee9aff",
   "metadata": {},
   "source": [
    "As we can see here,the accuracy of this model is more than 97% on both test and train data sets. Let us now compare it with a model trained using scikit-learn."
   ]
  },
  {
   "cell_type": "code",
   "execution_count": 10,
   "id": "011ca0ce-e3d2-4294-b118-65ca1b4c053a",
   "metadata": {},
   "outputs": [
    {
     "name": "stdout",
     "output_type": "stream",
     "text": [
      "Accuracy on training data: 97.375%\n",
      "Accuracy on testing data: 97.5%\n"
     ]
    }
   ],
   "source": [
    "from sklearn.cluster import KMeans\n",
    "from sklearn.metrics import accuracy_score\n",
    "from scipy.stats import mode\n",
    "\n",
    "x_train=df_train[['Feature_1','Feature_2','Feature_3']].values\n",
    "y_train=df_train['Target'].values\n",
    "\n",
    "x_test=df_test[['Feature_1','Feature_2','Feature_3']].values\n",
    "y_test=df_test['Target'].values\n",
    "\n",
    "model=KMeans(n_clusters=3,random_state=42)\n",
    "model.fit(x_train)\n",
    "train_labels=model.predict(x_train)\n",
    "test_labels=model.predict(x_test)\n",
    "n_clusters=3\n",
    "def map_clusters_to_labels(cluster_labels, true_labels):\n",
    "    labels = np.zeros_like(cluster_labels)\n",
    "    for i in range(n_clusters):\n",
    "        mask = (cluster_labels == i)\n",
    "        if np.any(mask):  # Check if there are any true labels in this cluster\n",
    "            labels[mask] = mode(true_labels[mask])[0]\n",
    "    return labels\n",
    "\n",
    "\n",
    "mapped_train_labels = map_clusters_to_labels(train_labels, y_train)\n",
    "mapped_test_labels = map_clusters_to_labels(test_labels, y_test)\n",
    "\n",
    "train_accuracy=accuracy_score(y_train,mapped_train_labels)*100\n",
    "print(f'Accuracy on training data: {train_accuracy}%')\n",
    "\n",
    "test_accuracy=accuracy_score(y_test,mapped_test_labels)*100\n",
    "print(f'Accuracy on testing data: {test_accuracy}%')"
   ]
  }
 ],
 "metadata": {
  "kernelspec": {
   "display_name": "Python 3 (ipykernel)",
   "language": "python",
   "name": "python3"
  },
  "language_info": {
   "codemirror_mode": {
    "name": "ipython",
    "version": 3
   },
   "file_extension": ".py",
   "mimetype": "text/x-python",
   "name": "python",
   "nbconvert_exporter": "python",
   "pygments_lexer": "ipython3",
   "version": "3.12.4"
  }
 },
 "nbformat": 4,
 "nbformat_minor": 5
}
