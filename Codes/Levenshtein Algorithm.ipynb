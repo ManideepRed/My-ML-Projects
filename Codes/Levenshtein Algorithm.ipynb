{
 "cells": [
  {
   "cell_type": "markdown",
   "id": "963a788f-ee0a-4650-8f65-b80edb927bd9",
   "metadata": {},
   "source": [
    "# Understanding Students' Career Aspirations "
   ]
  },
  {
   "cell_type": "markdown",
   "id": "313eb006-dca6-47a3-bdc1-509bac24be46",
   "metadata": {},
   "source": [
    "A survey has been conducted to understand career aspirations of students. It gathered responses from more than 1400 students but all these responses are misspelt. But we do know that all these responses are either of the following 10 career choices.\n",
    "1. Doctor\n",
    "2. Lawyer\n",
    "3. Teacher\n",
    "4. Engineer\n",
    "5. Accountant\n",
    "6. Nurse\n",
    "7. Police\n",
    "8. Architect\n",
    "9. Dentist\n",
    "10. Pharmacist\n",
    "\n",
    "We shall use a program written in python to correct these responses and analyse the data."
   ]
  },
  {
   "cell_type": "markdown",
   "id": "c0fd19f3-f77e-4707-affd-a134ce340b1a",
   "metadata": {},
   "source": [
    "Let us first import the excel file that contains these responses using the pandas library."
   ]
  },
  {
   "cell_type": "code",
   "execution_count": 1,
   "id": "939105ef-584b-4076-b861-e761c43ffddc",
   "metadata": {},
   "outputs": [],
   "source": [
    "import numpy \n",
    "import pandas as pd\n",
    "\n",
    "df=pd.read_excel(r\"C:\\Users\\A.MANIDEEP REDDY\\Desktop\\TaskData1.xlsx\",header=None)"
   ]
  },
  {
   "cell_type": "markdown",
   "id": "fd693915-8026-4fa2-873c-522ba78970ef",
   "metadata": {},
   "source": [
    "Let us now check the dataframe by printing it."
   ]
  },
  {
   "cell_type": "code",
   "execution_count": 2,
   "id": "77e79667-554b-4727-b92b-b08f7b5a3751",
   "metadata": {},
   "outputs": [
    {
     "name": "stdout",
     "output_type": "stream",
     "text": [
      "               0\n",
      "0         cokter\n",
      "1      dentiists\n",
      "2        Enginir\n",
      "3         PoLICE\n",
      "4      engneiear\n",
      "...          ...\n",
      "1401     enginir\n",
      "1402  aCcountANT\n",
      "1403  accountant\n",
      "1404      POlIcE\n",
      "1405    enjineer\n",
      "\n",
      "[1406 rows x 1 columns]\n"
     ]
    }
   ],
   "source": [
    "print(df)"
   ]
  },
  {
   "cell_type": "markdown",
   "id": "fcd24ffe-44e7-4e1e-af21-69a1c3572d2d",
   "metadata": {},
   "source": [
    "We have 1406 responses that are misspelt. We shall now fix them by using Levenshtein Algorithm"
   ]
  },
  {
   "cell_type": "markdown",
   "id": "83500489-7214-4050-97b1-c970d1242b7c",
   "metadata": {},
   "source": [
    "### Levenshtein Algorithm"
   ]
  },
  {
   "cell_type": "markdown",
   "id": "2e143d8c-0bd8-49e0-a6bf-70ac78136287",
   "metadata": {},
   "source": [
    "The Levenshtein Algorithm works by calculating the minimum number of edits (also called the Levenshtein distance) that are needed to be done on the given word to reach the required word. The \"edits\" can either be\n",
    "\n",
    "1. Deletion of a letter\n",
    "2. Insertion of a letter\n",
    "3. Replacement of a letter\n",
    "\n"
   ]
  },
  {
   "cell_type": "markdown",
   "id": "bedd25f6-22dc-4f5e-b07e-3f75ebd2c66b",
   "metadata": {},
   "source": [
    "A simple version of this algorithm is "
   ]
  },
  {
   "cell_type": "code",
   "execution_count": 3,
   "id": "98236718-d32b-46d9-b942-9d3d5b7e58a8",
   "metadata": {},
   "outputs": [],
   "source": [
    "def levenshtein(a, b):\n",
    "    if not a:\n",
    "        return len(b)\n",
    "    if not b:\n",
    "        return len(a)\n",
    "\n",
    "    if a[0] == b[0]:\n",
    "        return levenshtein(a[1:], b[1:])\n",
    "    \n",
    "    return 1 + min(\n",
    "        levenshtein(a[1:], b),\n",
    "        levenshtein(a, b[1:]),\n",
    "        levenshtein(a[1:], b[1:])\n",
    "    )"
   ]
  },
  {
   "cell_type": "markdown",
   "id": "b77bdaff-a1cf-46f2-9593-106dd12033ab",
   "metadata": {},
   "source": [
    "This function calculates the Levenshtein distance between 2 strings names a and b. Let us check it with an example. "
   ]
  },
  {
   "cell_type": "code",
   "execution_count": 4,
   "id": "210810ef-d1b1-437b-bae4-35ad7e5caade",
   "metadata": {},
   "outputs": [
    {
     "data": {
      "text/plain": [
       "3"
      ]
     },
     "execution_count": 4,
     "metadata": {},
     "output_type": "execute_result"
    }
   ],
   "source": [
    "a='cokter'\n",
    "b='doctor'\n",
    "levenshtein(a,b)"
   ]
  },
  {
   "cell_type": "markdown",
   "id": "4c9bcb24-c9ab-4c6a-8a01-cd732d366df5",
   "metadata": {},
   "source": [
    "The function says that the word cokter requires only 3 edits to correct its spelling to doctor,which is true."
   ]
  },
  {
   "cell_type": "markdown",
   "id": "b52afea2-24ef-42ed-bace-4269c6f3162a",
   "metadata": {},
   "source": [
    "cokter --> dokter --> docter --> doctor"
   ]
  },
  {
   "cell_type": "markdown",
   "id": "5735e7e8-3117-4cff-af3f-aae1d471b566",
   "metadata": {},
   "source": [
    "### Approach and logic behind the code"
   ]
  },
  {
   "cell_type": "markdown",
   "id": "83b70a5b-eb39-4aa7-9009-66bd5256d897",
   "metadata": {},
   "source": [
    "Now,we know that all the 1406 responses are misspelt forms of just 10 words. So,we shall find the Levenshtein distance of each response from all these 10 words,the one with the least Levenshtein distance is the correct word. We do this by creating a series of the correctly spelt words."
   ]
  },
  {
   "cell_type": "code",
   "execution_count": 5,
   "id": "50ade391-8d72-485a-baf8-3cec5bb90a1c",
   "metadata": {},
   "outputs": [],
   "source": [
    "correctspellings=pd.Series(['Doctor','Lawyer','Teacher','Engineer','Accountant','Nurse','Police','Architect','Dentist','Pharmacist'])\n",
    "#Series containing the correct spellings. This will be used as reference for the Levenshtein function."
   ]
  },
  {
   "cell_type": "markdown",
   "id": "b02f1acc-7614-460b-8d1c-6f77b3e939f6",
   "metadata": {},
   "source": [
    "One thing we need to think about is that the above function considers changing of a upper case letter to its lower case version (and vice versa) as an edit,but we do not want this. To avoid this we convert the response and the correctly spelt words into their lower case version while finding the Levenshtein distance.\n",
    "We shall also create a series that contains the composition of career aspirations amonng the students."
   ]
  },
  {
   "cell_type": "markdown",
   "id": "7fddb633-4199-4c7e-aeff-4b0be37d6189",
   "metadata": {},
   "source": [
    "Now we run a iterate over the elements of df (the dataframe containing the responses),use the above logic to find the corrected version of it from the 'correctspellings' series and replace the response with this word."
   ]
  },
  {
   "cell_type": "code",
   "execution_count": null,
   "id": "9bd7d08b-7271-4735-b5b9-ab5373da3e23",
   "metadata": {},
   "outputs": [],
   "source": [
    "values=pd.Series([0,0,0,0,0,0,0,0,0,0],index=correctspellings)  #Series containing the composition of the career choices among the students.The indices are the career choices and are initialized to 0.\n",
    "\n",
    "for j in range(len(df)):  #This outer loop iterates over the 1400+ responses\n",
    "    x = 100\n",
    "    stri = df.iloc[j, 0]  \n",
    "    for i in correctspellings:     #This inner loop iterates over the series containing the correct spellings\n",
    "        y = levenshtein(i.lower(), stri.lower())\n",
    "        if y < x:\n",
    "            x = y\n",
    "            corrected_spelling = i        #At the end of this inner loop,the corrected_spelling variable is assigned with correct spelling of the response\n",
    "    df.iloc[j,0]=corrected_spelling      #This line is to replace the response with its corrected version  \n",
    "    values.loc[corrected_spelling]+=1    #This line is to update the count of the career choice"
   ]
  },
  {
   "cell_type": "markdown",
   "id": "df8d2770-cebf-45b3-919d-15d6f0f404f8",
   "metadata": {},
   "source": [
    "This loop takes around 10 minutes to iterate all over the 1406 responses. Let us now check the dataframe now."
   ]
  },
  {
   "cell_type": "code",
   "execution_count": null,
   "id": "96404f83-d188-40c6-a97d-394072b0bfd5",
   "metadata": {},
   "outputs": [],
   "source": [
    "df=df.rename(columns={0:'Career Choices'}) #Giving the dataframe header\n",
    "print(df)"
   ]
  },
  {
   "cell_type": "markdown",
   "id": "d59d6913-197a-400f-987f-23a6f47e1e44",
   "metadata": {},
   "source": [
    "The dataframe has now been edited. But the excel file still contains the misspelt responses. We shall edit the excel file by rewriting it with the dataframe."
   ]
  },
  {
   "cell_type": "code",
   "execution_count": null,
   "id": "a487db10-30e0-4bd7-bf01-f6036bea3927",
   "metadata": {},
   "outputs": [],
   "source": [
    "df.to_excel(r\"C:\\Users\\A.MANIDEEP REDDY\\Desktop\\TaskData1.xlsx\", index=False)"
   ]
  },
  {
   "cell_type": "markdown",
   "id": "56cb4466-09d3-4e65-896d-415082d875fc",
   "metadata": {},
   "source": [
    "### Bar Graph Representation of the Data"
   ]
  },
  {
   "cell_type": "markdown",
   "id": "ee7ba3d5-2f1c-4328-8727-9778aa70c75d",
   "metadata": {},
   "source": [
    "The excel file has been updated with the correct spellings. Also the series names values is also updated and now contains the required data to plot a bar graph.\n",
    "    \n",
    "We shall now plot the bar graph"
   ]
  },
  {
   "cell_type": "code",
   "execution_count": null,
   "id": "d157a753-eb80-46fa-af33-3d894bf4d0ab",
   "metadata": {},
   "outputs": [],
   "source": [
    "values.plot.bar()\n",
    "\n",
    "import matplotlib.pyplot as plt\n",
    "\n",
    "plt.xlabel(\"Career Choice\")\n",
    "plt.ylabel(\"No.of Students\")\n",
    "plt.show()"
   ]
  },
  {
   "cell_type": "markdown",
   "id": "6651200e-3965-4008-ac2e-b796d0119ffa",
   "metadata": {},
   "source": [
    "From the bar graph we observe that engineer is most students' career choice and accountant is least preferred. For more precise analysis,we can print the series 'values'"
   ]
  },
  {
   "cell_type": "code",
   "execution_count": null,
   "id": "3d4d6c04-7b59-4cbe-9e5d-64187b0f10a4",
   "metadata": {},
   "outputs": [],
   "source": [
    "print(values)"
   ]
  }
 ],
 "metadata": {
  "kernelspec": {
   "display_name": "Python 3 (ipykernel)",
   "language": "python",
   "name": "python3"
  },
  "language_info": {
   "codemirror_mode": {
    "name": "ipython",
    "version": 3
   },
   "file_extension": ".py",
   "mimetype": "text/x-python",
   "name": "python",
   "nbconvert_exporter": "python",
   "pygments_lexer": "ipython3",
   "version": "3.12.4"
  }
 },
 "nbformat": 4,
 "nbformat_minor": 5
}
